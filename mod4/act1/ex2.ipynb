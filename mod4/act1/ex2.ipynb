{
 "cells": [
  {
   "cell_type": "markdown",
   "id": "46592891",
   "metadata": {},
   "source": [
    "# Actividad 4.1, Ejercicio 2\n",
    "Ricardo Adolfo Fernández Alvarado - A01704813\n",
    "\n",
    "Lanzar un dado injusto 1000 veces y mostrar sus resultados"
   ]
  },
  {
   "cell_type": "code",
   "execution_count": 4,
   "id": "1e025dd9",
   "metadata": {},
   "outputs": [],
   "source": [
    "from random import randint\n",
    "import matplotlib.pyplot as plt\n",
    "\n",
    "results = []\n",
    "throws = 1000\n",
    "\n",
    "for i in range(1000):\n",
    "    unfair_roll = randint(1, 2)\n",
    "    if unfair_roll == 1:\n",
    "        results.append(6)\n",
    "    else:\n",
    "        results.append(randint(1, 5))\n",
    "\n",
    "frequencies = [results.count(i) for i in range(1, 7)]"
   ]
  },
  {
   "cell_type": "code",
   "execution_count": 5,
   "id": "7e05e1bb",
   "metadata": {},
   "outputs": [
    {
     "name": "stdout",
     "output_type": "stream",
     "text": [
      "Resultados de lanzar el dado 1000 veces\n",
      "1: 100 veces\n",
      "2: 112 veces\n",
      "3: 105 veces\n",
      "4: 82 veces\n",
      "5: 108 veces\n",
      "6: 493 veces\n"
     ]
    }
   ],
   "source": [
    "print(f\"Resultados de lanzar el dado {throws} veces\")\n",
    "for i in range(1, 7):\n",
    "    print(f\"{i}: {frequencies[i-1]} veces\")"
   ]
  },
  {
   "cell_type": "code",
   "execution_count": 6,
   "id": "865828f1",
   "metadata": {},
   "outputs": [
    {
     "name": "stdout",
     "output_type": "stream",
     "text": [
      "Resultados de lanzar el dado 1000 veces en porcentaje\n",
      "1: 10.00%\n",
      "2: 11.20%\n",
      "3: 10.50%\n",
      "4: 8.20%\n",
      "5: 10.80%\n",
      "6: 49.30%\n"
     ]
    }
   ],
   "source": [
    "print(f\"Resultados de lanzar el dado {throws} veces en porcentaje\")\n",
    "for i in range(1, 7):\n",
    "    print(f\"{i}: {(frequencies[i-1] / throws * 100):.2f}%\")"
   ]
  }
 ],
 "metadata": {
  "kernelspec": {
   "display_name": "venv",
   "language": "python",
   "name": "python3"
  },
  "language_info": {
   "codemirror_mode": {
    "name": "ipython",
    "version": 3
   },
   "file_extension": ".py",
   "mimetype": "text/x-python",
   "name": "python",
   "nbconvert_exporter": "python",
   "pygments_lexer": "ipython3",
   "version": "3.9.6"
  }
 },
 "nbformat": 4,
 "nbformat_minor": 5
}
