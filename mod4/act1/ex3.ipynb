{
 "cells": [
  {
   "cell_type": "markdown",
   "id": "d6afdf4b",
   "metadata": {},
   "source": [
    "# Actividad 4.1, Ejercicio 3\n",
    "Ricardo Adolfo Fernández Alvarado - A01704813\n",
    "\n",
    "Calcular el promedio y desviación estándar de un csv"
   ]
  },
  {
   "cell_type": "code",
   "execution_count": 17,
   "id": "60480fac",
   "metadata": {},
   "outputs": [
    {
     "name": "stdout",
     "output_type": "stream",
     "text": [
      "Promedio de Accuracy: 0.7297269220535572\n",
      "Desviación estándar de Accuracy: 0.05804149203045715\n",
      "\n",
      "Promedio de Loss: 0.856271179822775\n",
      "Desviación estándar de Loss: 0.23197464234695636\n",
      "\n",
      "Promedio de FLOPs: 472190912.46153843\n",
      "Desviación estándar de FLOPs: 718428563.3982126\n",
      "\n",
      "Promedio de CPU_Sec: 545.0392370223999\n",
      "Desviación estándar de CPU_Sec: 188.33139151649002\n",
      "\n",
      "Promedio de Num_Params: 4098654.923076923\n",
      "Desviación estándar de Num_Params: 3989098.9192698733\n",
      "\n"
     ]
    }
   ],
   "source": [
    "import pandas as pd\n",
    "\n",
    "file_path = \"surrogate_RANDOM.csv\"\n",
    "data = pd.read_csv(file_path)\n",
    "\n",
    "fields = [\"Accuracy\", \"Loss\", \"FLOPs\", \"CPU_Sec\", \"Num_Params\"]\n",
    "result = pd.DataFrame(columns=fields, index=[\"mean\", \"std\"])\n",
    "\n",
    "for field in fields:\n",
    "    print(f\"Promedio de {field}: {data[field].mean()}\")\n",
    "    print(f\"Desviación estándar de {field}: {data[field].std()}\\n\")\n",
    "\n",
    "    result[field] = [data[field].mean(), data[field].std()]\n",
    "\n",
    "pd.DataFrame.to_csv(result, \"surrogate_RANDOM_summary.csv\")"
   ]
  }
 ],
 "metadata": {
  "kernelspec": {
   "display_name": "venv",
   "language": "python",
   "name": "python3"
  },
  "language_info": {
   "codemirror_mode": {
    "name": "ipython",
    "version": 3
   },
   "file_extension": ".py",
   "mimetype": "text/x-python",
   "name": "python",
   "nbconvert_exporter": "python",
   "pygments_lexer": "ipython3",
   "version": "3.9.6"
  }
 },
 "nbformat": 4,
 "nbformat_minor": 5
}
